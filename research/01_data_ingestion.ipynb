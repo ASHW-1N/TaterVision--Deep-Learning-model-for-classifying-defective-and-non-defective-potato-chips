{
 "cells": [
  {
   "cell_type": "code",
   "execution_count": 1,
   "metadata": {},
   "outputs": [],
   "source": [
    "import os"
   ]
  },
  {
   "cell_type": "code",
   "execution_count": 2,
   "metadata": {},
   "outputs": [
    {
     "data": {
      "text/plain": [
       "'d:\\\\DOWNLOADS\\\\lays\\\\TaterVision--Deep-Learning-model-for-classifying-defective-and-non-defective-potato-chips\\\\research'"
      ]
     },
     "execution_count": 2,
     "metadata": {},
     "output_type": "execute_result"
    }
   ],
   "source": [
    "os.getcwd()"
   ]
  },
  {
   "cell_type": "code",
   "execution_count": 3,
   "metadata": {},
   "outputs": [],
   "source": [
    "os.chdir(\"../\")"
   ]
  },
  {
   "cell_type": "code",
   "execution_count": 4,
   "metadata": {},
   "outputs": [
    {
     "data": {
      "text/plain": [
       "'d:\\\\DOWNLOADS\\\\lays\\\\TaterVision--Deep-Learning-model-for-classifying-defective-and-non-defective-potato-chips'"
      ]
     },
     "execution_count": 4,
     "metadata": {},
     "output_type": "execute_result"
    }
   ],
   "source": [
    "os.getcwd()"
   ]
  },
  {
   "cell_type": "code",
   "execution_count": 5,
   "metadata": {},
   "outputs": [],
   "source": [
    "from dataclasses import dataclass\n",
    "from pathlib import Path\n",
    "\n",
    "\n",
    "@dataclass(frozen=True)\n",
    "class DataIngestionConfig:\n",
    "    root_dir: Path\n",
    "    source_URL: str\n",
    "    local_data_file: Path\n",
    "    unzip_dir: Path"
   ]
  },
  {
   "cell_type": "code",
   "execution_count": 6,
   "metadata": {},
   "outputs": [],
   "source": [
    "from cnnClassifier.constants import *\n",
    "from cnnClassifier.utils.common import read_yaml, create_directories"
   ]
  },
  {
   "cell_type": "code",
   "execution_count": 7,
   "metadata": {},
   "outputs": [],
   "source": [
    "class ConfigurationManager:\n",
    "    def __init__(\n",
    "        self,\n",
    "        config_filepath = CONFIG_FILE_PATH,\n",
    "        params_filepath = PARAMS_FILE_PATH):\n",
    "\n",
    "        self.config = read_yaml(config_filepath)\n",
    "        self.params = read_yaml(params_filepath)\n",
    "\n",
    "        create_directories([self.config.artifacts_root])\n",
    "\n",
    "\n",
    "    \n",
    "    def get_data_ingestion_config(self) -> DataIngestionConfig:\n",
    "        config = self.config.data_ingestion\n",
    "\n",
    "        create_directories([config.root_dir])\n",
    "\n",
    "        data_ingestion_config = DataIngestionConfig(\n",
    "            root_dir=config.root_dir,\n",
    "            source_URL=config.source_URL,\n",
    "            local_data_file=config.local_data_file,\n",
    "            unzip_dir=config.unzip_dir \n",
    "        )\n",
    "\n",
    "        return data_ingestion_config"
   ]
  },
  {
   "cell_type": "code",
   "execution_count": 8,
   "metadata": {},
   "outputs": [],
   "source": [
    "import os\n",
    "import urllib.request as request\n",
    "import zipfile\n",
    "from cnnClassifier import logger\n",
    "from cnnClassifier.utils.common import get_size"
   ]
  },
  {
   "cell_type": "code",
   "execution_count": 9,
   "metadata": {},
   "outputs": [],
   "source": [
    "class DataIngestion:\n",
    "    def __init__(self, config: DataIngestionConfig):\n",
    "        self.config = config\n",
    "\n",
    "\n",
    "    \n",
    "    def download_file(self):\n",
    "        if not os.path.exists(self.config.local_data_file):\n",
    "            filename, headers = request.urlretrieve(\n",
    "                url = self.config.source_URL,\n",
    "                filename = self.config.local_data_file\n",
    "            )\n",
    "            logger.info(f\"{filename} download! with following info: \\n{headers}\")\n",
    "        else:\n",
    "            logger.info(f\"File already exists of size: {get_size(Path(self.config.local_data_file))}\")  \n",
    "\n",
    "\n",
    "    \n",
    "    def extract_zip_file(self):\n",
    "        \"\"\"\n",
    "        zip_file_path: str\n",
    "        Extracts the zip file into the data directory\n",
    "        Function returns None\n",
    "        \"\"\"\n",
    "        unzip_path = self.config.unzip_dir\n",
    "        os.makedirs(unzip_path, exist_ok=True)\n",
    "        with zipfile.ZipFile(self.config.local_data_file, 'r') as zip_ref:\n",
    "            zip_ref.extractall(unzip_path)"
   ]
  },
  {
   "cell_type": "code",
   "execution_count": 10,
   "metadata": {},
   "outputs": [
    {
     "name": "stdout",
     "output_type": "stream",
     "text": [
      "[2023-06-30 17:27:19,114: INFO: common: yaml file: config\\config.yaml loaded successfully]\n",
      "[2023-06-30 17:27:19,124: INFO: common: yaml file: params.yaml loaded successfully]\n",
      "[2023-06-30 17:27:19,126: INFO: common: created directory at: artifacts]\n",
      "[2023-06-30 17:27:19,129: INFO: common: created directory at: artifacts/data_ingestion]\n",
      "[2023-06-30 19:05:38,606: INFO: 4037744573: artifacts/data_ingestion/data.zip download! with following info: \n",
      "Server: nginx\n",
      "Date: Fri, 30 Jun 2023 11:57:00 GMT\n",
      "Content-Type: application/octet-stream\n",
      "Content-Length: 976848132\n",
      "Connection: close\n",
      "Content-Disposition: attachment; filename=taterdat.zip\n",
      "Accept-Ranges: none\n",
      "Set-Cookie: session=7e17a51b53961992_649ec30c.XFdx24jZIEvT9-xI3OO5f0atJ58; Expires=Mon, 31-Jul-2023 11:57:00 GMT; Secure; HttpOnly; Path=/\n",
      "OC-Checksum: MD5:e1409a385a13991095242b8ca1186da3\n",
      "Accept-Ranges: bytes\n",
      "Content-Type: application/octet-stream\n",
      "Content-MD5: e1409a385a13991095242b8ca1186da3\n",
      "Content-Security-Policy: default-src 'none';\n",
      "X-Content-Type-Options: nosniff\n",
      "X-Download-Options: noopen\n",
      "X-Permitted-Cross-Domain-Policies: none\n",
      "X-Frame-Options: sameorigin\n",
      "X-XSS-Protection: 1; mode=block\n",
      "Last-Modified: Fri, 30 Jun 2023 07:32:18 GMT\n",
      "ETag: \"md5:e1409a385a13991095242b8ca1186da3\"\n",
      "X-RateLimit-Limit: 60\n",
      "X-RateLimit-Remaining: 59\n",
      "X-RateLimit-Reset: 1688126281\n",
      "Retry-After: 60\n",
      "Strict-Transport-Security: max-age=0\n",
      "Referrer-Policy: strict-origin-when-cross-origin\n",
      "\n",
      "]\n"
     ]
    }
   ],
   "source": [
    "try:\n",
    "    config = ConfigurationManager()\n",
    "    data_ingestion_config = config.get_data_ingestion_config()\n",
    "    data_ingestion = DataIngestion(config=data_ingestion_config)\n",
    "    data_ingestion.download_file()\n",
    "    data_ingestion.extract_zip_file()\n",
    "except Exception as e:\n",
    "    raise e"
   ]
  }
 ],
 "metadata": {
  "kernelspec": {
   "display_name": "lays",
   "language": "python",
   "name": "python3"
  },
  "language_info": {
   "codemirror_mode": {
    "name": "ipython",
    "version": 3
   },
   "file_extension": ".py",
   "mimetype": "text/x-python",
   "name": "python",
   "nbconvert_exporter": "python",
   "pygments_lexer": "ipython3",
   "version": "3.8.0"
  },
  "orig_nbformat": 4
 },
 "nbformat": 4,
 "nbformat_minor": 2
}
